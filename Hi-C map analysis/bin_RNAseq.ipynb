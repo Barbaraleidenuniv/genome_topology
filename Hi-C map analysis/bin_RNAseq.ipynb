{
 "cells": [
  {
   "cell_type": "code",
   "execution_count": 2,
   "metadata": {},
   "outputs": [],
   "source": [
    "import numpy as np\n",
    "import matplotlib.pyplot as plt\n",
    "%matplotlib inline\n",
    "import pandas as pd\n",
    "import seaborn as sns\n",
    "pd.options.mode.chained_assignment = None  # default='warn'\n",
    "from read_HiC import name_chromosomes"
   ]
  },
  {
   "cell_type": "markdown",
   "metadata": {},
   "source": [
    "## BIN NUCLEAR RNAseq DATA FOR GENE ABUNDANCE "
   ]
  },
  {
   "cell_type": "markdown",
   "metadata": {},
   "source": [
    "In this notebook we read processed nuclear RNAseq data from Stevens et al. (3D structures of individual mammalian genomes studied by single-cell Hi-C) and we bin it in order to couple it with topological information with the same resolution."
   ]
  },
  {
   "cell_type": "markdown",
   "metadata": {},
   "source": [
    "Load gene data"
   ]
  },
  {
   "cell_type": "code",
   "execution_count": 3,
   "metadata": {},
   "outputs": [],
   "source": [
    "#Load data\n",
    "data_abundance = pd.read_csv('data/rna data/'\\\n",
    "                             'GSM2123562_haploid_mES_nuclear_abundance_genes_ENSMUSG.tsv',sep = '\\t')\n",
    "chrom_info = pd.read_csv('data/rna data/GSE80280_corr_Expression_Chd4.txt', sep = '\\t')\n",
    "\n",
    "#Select relevant columns from chrom_info\n",
    "info = {'index': chrom_info['gene_id'], 'start position':chrom_info['start_position'],\n",
    "        'end position':chrom_info['end_position'], 'chromosome': chrom_info['chromosome_name'], \n",
    "        'strand': chrom_info['strand']}\n",
    "\n",
    "info_df= pd.DataFrame(info)\n",
    "\n",
    "#Merge the two datasets\n",
    "data_abundance = data_abundance.reset_index()\n",
    "RNA_seq = pd.merge(data_abundance, info_df, on='index')"
   ]
  },
  {
   "cell_type": "markdown",
   "metadata": {},
   "source": [
    "Set bin sizes (in bp units). Recommended: 1Mb (1000000)"
   ]
  },
  {
   "cell_type": "code",
   "execution_count": 4,
   "metadata": {},
   "outputs": [],
   "source": [
    "chrom_number=20\n",
    "resolution = 1000000\n",
    "\n",
    "chr_vec=name_chromosomes(chrom_number)\n",
    "chr_vec=['{}'.format(chrom[3:]) for chrom in chr_vec]\n",
    "length_chromosomes = pd.read_csv('data/rna data/length_chromosomes_Mb.txt', header=None)\n",
    "length_chromosomes = np.array(length_chromosomes.iloc[0])+ np.ones(chrom_number)\n",
    "#Convert length from Mb to bp\n",
    "length_chromosomes = length_chromosomes* np.ones(len(length_chromosomes))* 1000000"
   ]
  },
  {
   "cell_type": "markdown",
   "metadata": {},
   "source": [
    "Bin abundance data"
   ]
  },
  {
   "cell_type": "code",
   "execution_count": 7,
   "metadata": {},
   "outputs": [],
   "source": [
    "for t, chrom in enumerate(chr_vec):\n",
    "    Abundance_chrom = RNA_seq[RNA_seq['chromosome']==chrom]\n",
    "    \n",
    "    #Find genes middle point\n",
    "    length = (Abundance_chrom['end position'] -  Abundance_chrom['start position'])//2\n",
    "    Abundance_chrom['position']=  Abundance_chrom['start position'] + length\n",
    "    Abundance_chrom = Abundance_chrom.sort_values(by=['position'])\n",
    "    \n",
    "    #Create bins\n",
    "    end = length_chromosomes[t]\n",
    "    bins=np.arange(0, end, resolution)\n",
    "    n_bins=len(bins)\n",
    "    \n",
    "    #Bin abundance\n",
    "    Abundance_binned=np.zeros(n_bins)\n",
    "    for j in range(n_bins-1):\n",
    "        select_chr= Abundance_chrom[(Abundance_chrom['position']< bins[j+1]) & (Abundance_chrom['position']> bins[j])]\n",
    "        Abundance_binned[j]=np.sum(select_chr['abundance'])\n",
    "        \n",
    "    #Save binned abundance\n",
    "    df_bin_abundance={'Abundance': Abundance_binned, 'Bins': bins}\n",
    "    df_bin_abundance=pd.DataFrame(df_bin_abundance)\n",
    "    df_bin_abundance.to_csv('data/rna data/binned abundance/resolution 1Mb/'\\\n",
    "                            'abundance_chr{}.csv'.format(chrom))"
   ]
  },
  {
   "cell_type": "code",
   "execution_count": null,
   "metadata": {},
   "outputs": [],
   "source": []
  }
 ],
 "metadata": {
  "kernelspec": {
   "display_name": "Python 3",
   "language": "python",
   "name": "python3"
  },
  "language_info": {
   "codemirror_mode": {
    "name": "ipython",
    "version": 3
   },
   "file_extension": ".py",
   "mimetype": "text/x-python",
   "name": "python",
   "nbconvert_exporter": "python",
   "pygments_lexer": "ipython3",
   "version": "3.7.7"
  }
 },
 "nbformat": 4,
 "nbformat_minor": 4
}
