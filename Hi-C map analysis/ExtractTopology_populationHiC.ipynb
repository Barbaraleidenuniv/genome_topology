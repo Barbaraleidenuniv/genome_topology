{
 "cells": [
  {
   "cell_type": "code",
   "execution_count": 2,
   "metadata": {},
   "outputs": [],
   "source": [
    "import numpy as np\n",
    "import os\n",
    "import pandas as pd\n",
    "import networkx as nx\n",
    "import matplotlib.pyplot as plt\n",
    "%matplotlib inline\n",
    "import PIL.Image\n",
    "from read_HiC import name_chromosomes\n",
    "\n",
    "import sys\n",
    "path=r'C:\\Users\\scalvinib\\Documents\\Phd_project_reduced\\work directory jupyter lab\\topology\\genome_topology\\functions'\n",
    "sys.path.append(path)\n",
    "\n",
    "from plotting_tools import set_layout\n",
    "from genome_topology import normalize_psc\n",
    "from genome_topology import get_matrix\n",
    "from genome_topology import fractal_dimension\n",
    "from genome_topology import make_graph"
   ]
  },
  {
   "cell_type": "code",
   "execution_count": 35,
   "metadata": {},
   "outputs": [],
   "source": [
    "contacts=pd.read_csv('data/Hi-C data/test1.txt', sep= '\\t', header= None )\n",
    "contacts.columns =['Index1', 'Index2', 'Counts']\n",
    "  "
   ]
  },
  {
   "cell_type": "code",
   "execution_count": 36,
   "metadata": {},
   "outputs": [
    {
     "data": {
      "text/html": [
       "<div>\n",
       "<style scoped>\n",
       "    .dataframe tbody tr th:only-of-type {\n",
       "        vertical-align: middle;\n",
       "    }\n",
       "\n",
       "    .dataframe tbody tr th {\n",
       "        vertical-align: top;\n",
       "    }\n",
       "\n",
       "    .dataframe thead th {\n",
       "        text-align: right;\n",
       "    }\n",
       "</style>\n",
       "<table border=\"1\" class=\"dataframe\">\n",
       "  <thead>\n",
       "    <tr style=\"text-align: right;\">\n",
       "      <th></th>\n",
       "      <th>Index1</th>\n",
       "      <th>Index2</th>\n",
       "      <th>Counts</th>\n",
       "    </tr>\n",
       "  </thead>\n",
       "  <tbody>\n",
       "    <tr>\n",
       "      <th>0</th>\n",
       "      <td>0</td>\n",
       "      <td>0</td>\n",
       "      <td>1196.0</td>\n",
       "    </tr>\n",
       "    <tr>\n",
       "      <th>1</th>\n",
       "      <td>0</td>\n",
       "      <td>9</td>\n",
       "      <td>172.0</td>\n",
       "    </tr>\n",
       "    <tr>\n",
       "      <th>2</th>\n",
       "      <td>9</td>\n",
       "      <td>9</td>\n",
       "      <td>915.0</td>\n",
       "    </tr>\n",
       "    <tr>\n",
       "      <th>3</th>\n",
       "      <td>0</td>\n",
       "      <td>18</td>\n",
       "      <td>74.0</td>\n",
       "    </tr>\n",
       "    <tr>\n",
       "      <th>4</th>\n",
       "      <td>9</td>\n",
       "      <td>18</td>\n",
       "      <td>194.0</td>\n",
       "    </tr>\n",
       "    <tr>\n",
       "      <th>...</th>\n",
       "      <td>...</td>\n",
       "      <td>...</td>\n",
       "      <td>...</td>\n",
       "    </tr>\n",
       "    <tr>\n",
       "      <th>109270</th>\n",
       "      <td>4140</td>\n",
       "      <td>4635</td>\n",
       "      <td>2.0</td>\n",
       "    </tr>\n",
       "    <tr>\n",
       "      <th>109271</th>\n",
       "      <td>4149</td>\n",
       "      <td>4635</td>\n",
       "      <td>2.0</td>\n",
       "    </tr>\n",
       "    <tr>\n",
       "      <th>109272</th>\n",
       "      <td>4158</td>\n",
       "      <td>4635</td>\n",
       "      <td>4.0</td>\n",
       "    </tr>\n",
       "    <tr>\n",
       "      <th>109273</th>\n",
       "      <td>4167</td>\n",
       "      <td>4635</td>\n",
       "      <td>1.0</td>\n",
       "    </tr>\n",
       "    <tr>\n",
       "      <th>109274</th>\n",
       "      <td>4176</td>\n",
       "      <td>4635</td>\n",
       "      <td>2.0</td>\n",
       "    </tr>\n",
       "  </tbody>\n",
       "</table>\n",
       "<p>109275 rows × 3 columns</p>\n",
       "</div>"
      ],
      "text/plain": [
       "        Index1  Index2  Counts\n",
       "0            0       0  1196.0\n",
       "1            0       9   172.0\n",
       "2            9       9   915.0\n",
       "3            0      18    74.0\n",
       "4            9      18   194.0\n",
       "...        ...     ...     ...\n",
       "109270    4140    4635     2.0\n",
       "109271    4149    4635     2.0\n",
       "109272    4158    4635     4.0\n",
       "109273    4167    4635     1.0\n",
       "109274    4176    4635     2.0\n",
       "\n",
       "[109275 rows x 3 columns]"
      ]
     },
     "execution_count": 36,
     "metadata": {},
     "output_type": "execute_result"
    }
   ],
   "source": [
    "contacts"
   ]
  },
  {
   "cell_type": "code",
   "execution_count": 33,
   "metadata": {},
   "outputs": [],
   "source": [
    "thresh_counts= 100\n",
    "plot_matrix=True\n",
    "path_savematrix='results/matrices/ecoli'\n",
    "selected_contacts=contacts[contacts['Counts']>=thresh_counts]"
   ]
  },
  {
   "cell_type": "code",
   "execution_count": 34,
   "metadata": {},
   "outputs": [
    {
     "data": {
      "image/png": "[encoded data removed]",
      "text/plain": [
       "<Figure size 360x360 with 1 Axes>"
      ]
     },
     "metadata": {
      "needs_background": "light"
     },
     "output_type": "display_data"
    }
   ],
   "source": [
    "index= [selected_contacts['Index1'], selected_contacts['Index2']]\n",
    "index=np.array(index)\n",
    "index= np.transpose(index)\n",
    "N_contacts = len(index)\n",
    "mat, psc = get_matrix(index, 'Ecoli')\n",
    "P, S, X=normalize_psc(psc, N_contacts)\n",
    "Dim_fractal, r2_fractalfit=fractal_dimension(mat, plot_fig=0)\n",
    "G=make_graph(index)\n",
    "clustering= nx.average_clustering(G)\n",
    "    \n",
    "if plot_matrix:\n",
    "    plt.figure(figsize=(5, 5))\n",
    "    plt.imshow(mat[600:700, 600:700])\n",
    "    plt.title('E-coli')\n",
    "    \n",
    "if path_savematrix:\n",
    "    PIL.Image.fromarray(mat.astype(float)).save(\"{}/top_matrix.tif\".format(\n",
    "        path_savematrix))"
   ]
  },
  {
   "cell_type": "code",
   "execution_count": 29,
   "metadata": {},
   "outputs": [
    {
     "data": {
      "text/plain": [
       "1.0734090673551042"
      ]
     },
     "execution_count": 29,
     "metadata": {},
     "output_type": "execute_result"
    }
   ],
   "source": [
    "Dim_fractal"
   ]
  },
  {
   "cell_type": "code",
   "execution_count": 43,
   "metadata": {},
   "outputs": [],
   "source": [
    "index= [selected_contacts['Index1'], selected_contacts['Index2']]\n",
    "index=np.array(index)\n",
    "index= np.transpose(index)"
   ]
  },
  {
   "cell_type": "code",
   "execution_count": 44,
   "metadata": {},
   "outputs": [
    {
     "data": {
      "text/plain": [
       "(701, 2)"
      ]
     },
     "execution_count": 44,
     "metadata": {},
     "output_type": "execute_result"
    }
   ],
   "source": [
    "index.shape"
   ]
  },
  {
   "cell_type": "code",
   "execution_count": 45,
   "metadata": {},
   "outputs": [
    {
     "data": {
      "text/plain": [
       "array([[   0,    0],\n",
       "       [   0,    9],\n",
       "       [   9,    9],\n",
       "       ...,\n",
       "       [4176, 4176],\n",
       "       [4176, 4185],\n",
       "       [4176, 4194]], dtype=int64)"
      ]
     },
     "execution_count": 45,
     "metadata": {},
     "output_type": "execute_result"
    }
   ],
   "source": [
    "index"
   ]
  },
  {
   "cell_type": "code",
   "execution_count": null,
   "metadata": {},
   "outputs": [],
   "source": []
  }
 ],
 "metadata": {
  "kernelspec": {
   "display_name": "Python 3",
   "language": "python",
   "name": "python3"
  },
  "language_info": {
   "codemirror_mode": {
    "name": "ipython",
    "version": 3
   },
   "file_extension": ".py",
   "mimetype": "text/x-python",
   "name": "python",
   "nbconvert_exporter": "python",
   "pygments_lexer": "ipython3",
   "version": "3.7.7"
  }
 },
 "nbformat": 4,
 "nbformat_minor": 4
}
