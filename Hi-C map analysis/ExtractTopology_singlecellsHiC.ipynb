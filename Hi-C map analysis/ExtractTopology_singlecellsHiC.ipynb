{
 "cells": [
  {
   "cell_type": "code",
   "execution_count": 2,
   "metadata": {},
   "outputs": [],
   "source": [
    "import numpy as np\n",
    "import os\n",
    "import pandas as pd\n",
    "import networkx as nx\n",
    "import matplotlib.pyplot as plt\n",
    "%matplotlib inline\n",
    "import PIL.Image\n",
    "from read_HiC import name_chromosomes\n",
    "\n",
    "import sys\n",
    "path=r'C:\\Users\\scalvinib\\Documents\\Phd_project_reduced\\work directory jupyter lab\\topology\\genome_topology\\functions'\n",
    "sys.path.append(path)\n",
    "\n",
    "from plotting_tools import set_layout\n",
    "from genome_topology import normalize_psc\n",
    "from genome_topology import get_matrix\n",
    "from genome_topology import fractal_dimension\n",
    "from genome_topology import make_graph"
   ]
  },
  {
   "cell_type": "markdown",
   "metadata": {},
   "source": [
    "## CIRCUIT TOPOLOGY ANALISIS OF CHROMOSOME FROM SINGLE CELL Hi-C CONTACT LISTS"
   ]
  },
  {
   "cell_type": "markdown",
   "metadata": {},
   "source": [
    "This notebook processes single cell Hi-C contact lists (in txt format) to extract topological parameters such as:\n",
    "- CT parameters (percentage of series, parallel and cross, number of contacts) \n",
    "- Network clustering coefficient\n",
    "- Fractal dimension (calculated over the CT topology matrix)"
   ]
  },
  {
   "cell_type": "markdown",
   "metadata": {},
   "source": [
    "Load contact pair data file. Each file contains contacts from one cell."
   ]
  },
  {
   "cell_type": "code",
   "execution_count": 3,
   "metadata": {},
   "outputs": [],
   "source": [
    "file='GSM2219498_Cell_2_contact_pairs'\n",
    "contacts=pd.read_csv('data/Hi-C data/{}.txt'.format(file), sep= '\\t' )\n",
    "cell=file[-20:-14]\n",
    "n_all_chr=20\n",
    "\n",
    "chr_vec=name_chromosomes(n_all_chr)"
   ]
  },
  {
   "cell_type": "markdown",
   "metadata": {},
   "source": [
    "Set path for printing results"
   ]
  },
  {
   "cell_type": "code",
   "execution_count": 4,
   "metadata": {},
   "outputs": [],
   "source": [
    "save_data= True\n",
    "save_matrix= True\n",
    "plot_matrix=True\n",
    "path_savematrix='results/matrices/{}'.format(cell)\n",
    "path_savedata='results/CT parameters'"
   ]
  },
  {
   "cell_type": "markdown",
   "metadata": {},
   "source": [
    "Calculate topological parameters looping over all chromosomes in a cell"
   ]
  },
  {
   "cell_type": "code",
   "execution_count": null,
   "metadata": {},
   "outputs": [],
   "source": [
    "P=np.zeros(n_all_chr)\n",
    "S=np.zeros(n_all_chr)\n",
    "X=np.zeros(n_all_chr)\n",
    "Dim_fractal = np.zeros(n_all_chr)\n",
    "clustering = np.zeros(n_all_chr)\n",
    "r2_fractalfit = np.zeros(n_all_chr)\n",
    "N_contacts=np.zeros(n_all_chr)\n",
    "\n",
    "for t, chrom in enumerate(chr_vec):\n",
    "\n",
    "    contacts_chr= contacts[(contacts['#chr_A']== chrom) & (contacts['chr_B']== chrom) ]\n",
    "    index= [contacts_chr['pos_A'], contacts_chr['pos_B']]\n",
    "    index=np.array(index)\n",
    "    index= np.transpose(index)\n",
    "    N_contacts[t]= len(index)\n",
    "\n",
    "    mat, psc = get_matrix(index, chrom)\n",
    "    P[t], S[t], X[t]=normalize_psc(psc, N_contacts[t])\n",
    "    Dim_fractal[t], r2_fractalfit[t]=fractal_dimension(mat, plot_fig=0)\n",
    "    G=make_graph(index)\n",
    "    clustering[t]= nx.average_clustering(G)\n",
    "    \n",
    "    if plot_matrix:\n",
    "        plt.figure(figsize=(5, 5))\n",
    "        plt.imshow(mat)\n",
    "        plt.title('{}'.format(chrom))\n",
    "    \n",
    "    if save_matrix:\n",
    "        PIL.Image.fromarray(mat.astype(float)).save(\n",
    "            \"{}/top_matrix_{}_{}.tif\".format(path_savematrix,cell, chrom))\n",
    "\n",
    "#Save results\n",
    "if save_data:\n",
    "    topology_parameters = {'Parallel (%)':P, 'Series (%)':S, 'Cross (%)':X,\n",
    "                           'N contacts': N_contacts, 'Fractal dimension':Dim_fractal, \n",
    "                           'r squared': r2_fractalfit, 'Clustering': clustering}\n",
    "    \n",
    "    topology_parameters= pd.DataFrame(topology_parameters)\n",
    "    \n",
    "    topology_parameters.to_csv('{}/Top_parameters_{}.csv'.format(path_savedata, cell))"
   ]
  },
  {
   "cell_type": "code",
   "execution_count": null,
   "metadata": {},
   "outputs": [],
   "source": []
  }
 ],
 "metadata": {
  "kernelspec": {
   "display_name": "Python 3",
   "language": "python",
   "name": "python3"
  },
  "language_info": {
   "codemirror_mode": {
    "name": "ipython",
    "version": 3
   },
   "file_extension": ".py",
   "mimetype": "text/x-python",
   "name": "python",
   "nbconvert_exporter": "python",
   "pygments_lexer": "ipython3",
   "version": "3.7.7"
  }
 },
 "nbformat": 4,
 "nbformat_minor": 4
}
