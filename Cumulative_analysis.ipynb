{
 "cells": [
  {
   "cell_type": "code",
   "execution_count": 2,
   "metadata": {},
   "outputs": [],
   "source": [
    "import numpy as np\n",
    "import matplotlib.pyplot as plt\n",
    "%matplotlib inline\n",
    "import seaborn as sns\n",
    "import scipy as sy\n",
    "import scipy.stats as ss\n",
    "import pandas as pd\n",
    "from scipy.signal import savgol_filter\n",
    "import string\n",
    "from scipy.signal import find_peaks\n",
    "import os\n",
    "import statistics\n",
    "\n",
    "from functions.plotting_tools import set_layout\n",
    "from functions.statistical_analysis import find_peaks_distribution"
   ]
  },
  {
   "cell_type": "code",
   "execution_count": 3,
   "metadata": {},
   "outputs": [],
   "source": [
    "path ='data/cumulative analysis traces/cell1'\n",
    "files = os.listdir(path)\n",
    "files_xls = [f for f in files if f[-3:] == 'xls']\n",
    "n_all_chr=len(files_xls)\n",
    "letters=list(string.ascii_lowercase)\n",
    "chr_vec=['chr {}'.format(letter) for letter in letters[:n_all_chr]]\n",
    "cell=path[-5:]\n",
    "set_layout()"
   ]
  },
  {
   "cell_type": "code",
   "execution_count": 20,
   "metadata": {},
   "outputs": [],
   "source": []
  },
  {
   "cell_type": "code",
   "execution_count": 4,
   "metadata": {},
   "outputs": [],
   "source": [
    "plot_fig= False\n",
    "window=15\n",
    "polynomial=2\n",
    "distance_allchr=[]\n",
    "sel_threshold=0\n",
    "sel_prominence=0.2\n",
    "\n",
    "\n",
    "for t in range(len(files_xls)):\n",
    "    xls=pd.ExcelFile('{}/{}'.format(path,files_xls[t]))\n",
    "    df = pd.read_excel(xls)\n",
    "    atoms=df['n atoms']\n",
    "    series=df['Series']\n",
    "    filt_series=savgol_filter(series, window,polynomial)\n",
    "    fract_ent=np.copy(100-filt_series)\n",
    "    peak= find_peaks(fract_ent, threshold=sel_threshold, prominence=sel_prominence)\n",
    "    array=np.array(peak[0])\n",
    "    \n",
    "    dist=np.zeros(len(array)-1)\n",
    "    for m in range(len(dist)):\n",
    "        dist[m]=atoms[array[m+1]]-atoms[array[m]]\n",
    "        \n",
    "    for j in range(len(dist)):\n",
    "        distance_allchr.append(dist[j])    \n",
    "       \n",
    "    if plot_fig:\n",
    "        letter=chr_vec[t][-1:]\n",
    "        plt.figure()\n",
    "        plt.plot(atoms, fract_ent, color='m', label='Filtered entangled fraction')\n",
    "        plt.scatter(atoms[array],fract_ent[array], label='Local maxima')\n",
    "        string_title='Chromosome {}'.format(letter)\n",
    "        plt.title(string_title.upper())\n",
    "        plt.xlabel('number of particles (100 kb)')\n",
    "        plt.ylabel('Entagled fraction (%)')    \n",
    "        plt.xlim(20,atoms[len(atoms)-1])\n",
    "        plt.legend()"
   ]
  },
  {
   "cell_type": "markdown",
   "metadata": {},
   "source": [
    "Plot distribution distance between peaks"
   ]
  },
  {
   "cell_type": "code",
   "execution_count": 5,
   "metadata": {},
   "outputs": [
    {
     "name": "stdout",
     "output_type": "stream",
     "text": [
      "[121.09807032 458.90192968]\n"
     ]
    },
    {
     "data": {
      "image/png": "[encoded data removed]",
      "text/plain": [
       "<Figure size 432x288 with 1 Axes>"
      ]
     },
     "metadata": {
      "needs_background": "light"
     },
     "output_type": "display_data"
    }
   ],
   "source": [
    "x, peaks= find_peaks_distribution(distance_allchr,1)\n",
    "max_dist=x[peaks]\n",
    "print(max_dist)\n",
    "\n",
    "\n",
    "max_dist=max_dist[0]\n",
    "mean_dist=np.mean(distance_allchr)\n",
    "median_dist=statistics.median(distance_allchr)\n",
    "mode_dist=statistics.mode(distance_allchr)\n",
    "std_dist=np.std(distance_allchr)"
   ]
  },
  {
   "cell_type": "code",
   "execution_count": null,
   "metadata": {},
   "outputs": [],
   "source": []
  }
 ],
 "metadata": {
  "kernelspec": {
   "display_name": "Python 3",
   "language": "python",
   "name": "python3"
  },
  "language_info": {
   "codemirror_mode": {
    "name": "ipython",
    "version": 3
   },
   "file_extension": ".py",
   "mimetype": "text/x-python",
   "name": "python",
   "nbconvert_exporter": "python",
   "pygments_lexer": "ipython3",
   "version": "3.7.7"
  }
 },
 "nbformat": 4,
 "nbformat_minor": 4
}
